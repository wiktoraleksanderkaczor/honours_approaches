{
 "cells": [
  {
   "cell_type": "markdown",
   "metadata": {},
   "source": [
    "## Import statements"
   ]
  },
  {
   "cell_type": "code",
   "execution_count": null,
   "metadata": {},
   "outputs": [],
   "source": [
    "import os\n",
    "import sys \n",
    "import cv2\n",
    "import time\n",
    "import glob\n",
    "import shutil\n",
    "import pickle\n",
    "import sqlite3\n",
    "import IPython\n",
    "import fnmatch\n",
    "import copyreg\n",
    "import imagehash\n",
    "import subprocess\n",
    "from math import exp\n",
    "from PIL import Image\n",
    "import multiprocessing\n",
    "from pprint import pprint\n",
    "import concurrent.futures\n",
    "from tqdm.notebook import tqdm"
   ]
  },
  {
   "cell_type": "markdown",
   "metadata": {},
   "source": [
    "## Helper functions"
   ]
  },
  {
   "cell_type": "code",
   "execution_count": null,
   "metadata": {
    "tags": []
   },
   "outputs": [],
   "source": [
    "def chunks(lst, n):\n",
    "    \"\"\"Yield successive n-sized chunks from lst.\"\"\"\n",
    "    for i in range(0, len(lst), n):\n",
    "        yield lst[i:i + n]\n",
    "\n",
    "\n",
    "def thread_it(thread_function, my_list, tq=True, WORKERS=None):\n",
    "    # Set worker number to CPU count\n",
    "    if not WORKERS:\n",
    "        WORKERS = multiprocessing.cpu_count()\n",
    "    \n",
    "    if tq:\n",
    "        tq = tqdm(total=len(my_list))\n",
    "    \n",
    "    # Separate into chunks and execute threaded\n",
    "    thread_list = chunks(my_list, WORKERS)\n",
    "    for chunk in thread_list:\n",
    "        with concurrent.futures.ThreadPoolExecutor(max_workers=WORKERS) as executor:\n",
    "            for item in chunk:\n",
    "                executor.submit(thread_function, item)\n",
    "                if tq:\n",
    "                    tq.update(1)\n",
    "    tq.close()\n",
    "\n",
    "\n",
    "\n",
    "def thread_it_return(thread_function, my_list, tq=True, WORKERS=None):\n",
    "    # Set worker number to CPU count\n",
    "    if not WORKERS:\n",
    "        WORKERS = multiprocessing.cpu_count()\n",
    "    \n",
    "    if tq:\n",
    "        tq = tqdm(total=len(my_list))\n",
    "        \n",
    "    results = []\n",
    "    # Separate into chunks and execute threaded\n",
    "    thread_list = chunks(my_list, WORKERS)\n",
    "    for chunk in thread_list:\n",
    "        with concurrent.futures.ThreadPoolExecutor(max_workers=WORKERS) as executor:\n",
    "            for item in chunk:\n",
    "                future = executor.submit(thread_function, item)\n",
    "                \n",
    "                return_value = future.result()\n",
    "                if return_value != None:\n",
    "                    results.append(return_value)\n",
    "                    \n",
    "                if tq:\n",
    "                    tq.update(1)\n",
    "    \n",
    "    tq.close()\n",
    "    \n",
    "    return results\n",
    "    \n",
    "\n",
    "def show_img_by_path(a, resize=True, size=(320, 240)):\n",
    "    # I could and probably need to implement image scaling beforehand, for network access\n",
    "    img = Image.open(a)\n",
    "    if resize:\n",
    "        img = img.resize(size=size)\n",
    "    IPython.display.display(img)\n",
    "\n",
    "\n",
    "def create_folder(path):\n",
    "    if not os.path.isdir(path):\n",
    "        os.makedirs(path)"
   ]
  },
  {
   "cell_type": "markdown",
   "metadata": {},
   "source": [
    "## Define various variables\n",
    "#### This includes all paths for image folders."
   ]
  },
  {
   "cell_type": "code",
   "execution_count": null,
   "metadata": {},
   "outputs": [],
   "source": [
    "# These should already exist from the \"Download\"\n",
    "compare_dir = \"compare_set/\"\n",
    "data_dir = \"images/\"\n",
    "\n",
    "\n",
    "consider_dir = \"consider/\"\n",
    "problems = \"problems/\"\n",
    "blurry = \"blurry/\"\n",
    "\n",
    "dirs = [consider_dir, blurry, problems]\n",
    "for path in dirs:\n",
    "    create_folder(path)"
   ]
  },
  {
   "cell_type": "markdown",
   "metadata": {},
   "source": [
    "## Preprocessing\n",
    "\n",
    "#### Get blur variance average for the comparison set"
   ]
  },
  {
   "cell_type": "code",
   "execution_count": null,
   "metadata": {
    "tags": []
   },
   "outputs": [],
   "source": [
    "def blur_avg_thread(image):\n",
    "    img = cv2.imread(image, cv2.IMREAD_GRAYSCALE)\n",
    "    val = cv2.Laplacian(img, cv2.CV_64F).var()\n",
    "    return val \n",
    "\n",
    "def get_blur_average(path, multiplier=1):\n",
    "    files = glob.glob(path+\"*.jpg\", recursive=True)\n",
    "    thr = thread_it_return(blur_avg_thread, files)\n",
    "    avg = sum(thr) / len(files)\n",
    "    return avg * multiplier\n",
    "\n",
    "blur_avg = get_blur_average(compare_dir, multiplier=0.75)\n",
    "print(\"The blur average is: \", blur_avg)"
   ]
  },
  {
   "cell_type": "markdown",
   "metadata": {},
   "source": [
    "\n",
    "#### Get the images in the data set that are more blurry than a given threshold"
   ]
  },
  {
   "cell_type": "code",
   "execution_count": null,
   "metadata": {
    "tags": []
   },
   "outputs": [],
   "source": [
    "def too_blurry_thread(item):\n",
    "    image = item[\"image\"]\n",
    "    threshold = item[\"threshold\"]\n",
    "    img = cv2.imread(image, cv2.IMREAD_GRAYSCALE)\n",
    "    val = cv2.Laplacian(img, cv2.CV_64F).var()\n",
    "    if val < threshold:\n",
    "        return image\n",
    "                \n",
    "def get_too_blurry(path, threshold):\n",
    "    files = glob.glob(path+\"*.jpg\")\n",
    "    items = []\n",
    "    for image in files:\n",
    "        items.append({\"image\": image, \"threshold\": threshold})\n",
    "    too_blurry = thread_it_return(too_blurry_thread, items)\n",
    "    \n",
    "    print(\"{} out of {} images are blurry\".format(len(too_blurry), len(files)))\n",
    "    return too_blurry\n",
    "\n",
    "#too_blurry = get_too_blurry(data_dir, blur_avg)\n",
    "#https://www.pyimagesearch.com/2015/09/07/blur-detection-with-opencv/\n",
    "# Temporary override to check how a constant of 200 does.\n",
    "too_blurry = get_too_blurry(data_dir, 200)\n",
    "# Well, it does pretty damn good!"
   ]
  },
  {
   "cell_type": "markdown",
   "metadata": {},
   "source": [
    "#### Remove the files referred to by the paths in the list"
   ]
  },
  {
   "cell_type": "code",
   "execution_count": null,
   "metadata": {},
   "outputs": [],
   "source": [
    "def move_to(file_list, dest):\n",
    "    tq = tqdm(total=len(file_list))\n",
    "    exception_flag = False\n",
    "    for item in file_list:\n",
    "        try:\n",
    "            shutil.move(item, dest)\n",
    "        except Exception as e:\n",
    "            print(e)\n",
    "            exception_flag = True\n",
    "        tq.update(1)\n",
    "    tq.close()\n",
    "    return exception_flag"
   ]
  },
  {
   "cell_type": "code",
   "execution_count": null,
   "metadata": {
    "tags": []
   },
   "outputs": [],
   "source": [
    "if move_to(too_blurry, blurry):\n",
    "    del(too_blurry)"
   ]
  },
  {
   "cell_type": "markdown",
   "metadata": {},
   "source": [
    "## Data processing\n",
    "#### Hashing images"
   ]
  },
  {
   "cell_type": "code",
   "execution_count": null,
   "metadata": {
    "tags": []
   },
   "outputs": [],
   "source": [
    "def hash_thread(image):\n",
    "    fname = image.split(\".\")[-2]+\".hsh\"\n",
    "    if not os.path.isfile(fname):\n",
    "        img_hash = imagehash.dhash(Image.open(image))\n",
    "        pickle.dump(img_hash, open(fname, \"wb\"))    \n",
    "\n",
    "def compute_img_hashes(path):\n",
    "    files = glob.glob(path+\"*.jpg\")\n",
    "    thread_it(hash_thread, files)\n",
    "\n",
    "compute_img_hashes(compare_dir)\n",
    "compute_img_hashes(data_dir)\n"
   ]
  },
  {
   "cell_type": "markdown",
   "metadata": {},
   "source": [
    "#### Compute hash distances for each image to each image"
   ]
  },
  {
   "cell_type": "code",
   "execution_count": null,
   "metadata": {
    "tags": []
   },
   "outputs": [],
   "source": [
    "def hash_distance_thread(item):\n",
    "    hash1 = pickle.load(open(item[\"hashname\"], \"rb\"))\n",
    "    dis = item[\"hashname\"].split(\".\")[-2]+\".dis\"\n",
    "    check = item[\"hashname\"].split(\".\")[-2]+\".jpg\"\n",
    "    \n",
    "    if os.path.isfile(dis):\n",
    "        compute = pickle.load(open(dis, \"rb\"))\n",
    "    else:\n",
    "        compute = {}\n",
    "    \n",
    "    for hashpath in item[\"files\"]:\n",
    "        try:\n",
    "            image = hashpath.split(\".\")[-2]+\".jpg\"\n",
    "            if image not in compute.keys() and image != check:\n",
    "                hash2 = pickle.load(open(hashpath, \"rb\"))\n",
    "                compute[image] = hash1 - hash2\n",
    "        except Exception as e:\n",
    "            print(e)\n",
    "            \n",
    "    pickle.dump(compute, open(dis, \"wb\"))\n",
    "\n",
    "def compute_hash_distance(path):\n",
    "    files = glob.glob(path+\"*.hsh\")\n",
    "    \n",
    "    items = []\n",
    "    for image in files:\n",
    "        items.append({\"hashname\": image, \"files\": files})\n",
    "\n",
    "    thread_it(hash_distance_thread, items)\n",
    "\n",
    "compute_hash_distance(compare_dir)    \n",
    "compute_hash_distance(data_dir)"
   ]
  },
  {
   "cell_type": "markdown",
   "metadata": {},
   "source": [
    "#### Check for duplicates"
   ]
  },
  {
   "cell_type": "code",
   "execution_count": null,
   "metadata": {
    "tags": []
   },
   "outputs": [],
   "source": [
    "def get_duplicate_images(path, threshold=10):\n",
    "    files = glob.glob(path+\"*.dis\")\n",
    "    dup, close = [], []\n",
    "    \n",
    "    for path in files:\n",
    "        distances = pickle.load(open(path, \"rb\"))\n",
    "        img = path.split(\".\")[-2]+\".jpg\"\n",
    "        \n",
    "        for key, val in distances.items():\n",
    "            if val == 0:\n",
    "                if key not in dup and img not in dup:\n",
    "                    dup.append(key)\n",
    "            elif val < threshold:\n",
    "                if key not in close and img not in close:\n",
    "                    close.append(key)\n",
    "                \n",
    "    return dup, close\n",
    "\n",
    "compare_dup, compare_close = get_duplicate_images(compare_dir, threshold=5)\n",
    "data_dup, data_close = get_duplicate_images(data_dir, threshold=5)\n",
    "\n",
    "print(\"Compare duplicates:\")\n",
    "pprint(compare_dup)\n",
    "print(\"Compare close:\")\n",
    "pprint(compare_close)\n",
    "\n",
    "print(\"Data duplicates:\")\n",
    "pprint(data_dup)\n",
    "print(\"Data close:\")\n",
    "pprint(data_close)\n",
    "\n",
    "show = False\n",
    "if show:\n",
    "    print(\"DUPLICATES IN COMPARE:\")\n",
    "    for item in compare_dup:\n",
    "        show_img_by_path(item)\n",
    "    print(\"DUPLICATES IN DATA:\")\n",
    "    for item in data_dup:\n",
    "        show_img_by_path(item)\n",
    "    print(\"CLOSE IN COMPARE:\")\n",
    "    for item in compare_close:\n",
    "        show_img_by_path(item)\n",
    "    print(\"CLOSE IN DATA:\")\n",
    "    for item in data_close:\n",
    "        show_img_by_path(item)"
   ]
  },
  {
   "cell_type": "markdown",
   "metadata": {},
   "source": [
    "#### Remove duplicates"
   ]
  },
  {
   "cell_type": "code",
   "execution_count": null,
   "metadata": {
    "tags": []
   },
   "outputs": [],
   "source": [
    "if move_to(compare_dup, problems):\n",
    "    del(compare_dup)\n",
    "if move_to(data_dup, problems):\n",
    "    del(data_dup)"
   ]
  },
  {
   "cell_type": "markdown",
   "metadata": {},
   "source": [
    "## Feature Extraction (Comparison set)"
   ]
  },
  {
   "cell_type": "code",
   "execution_count": null,
   "metadata": {
    "scrolled": true,
    "tags": []
   },
   "outputs": [],
   "source": [
    "cmd = r\"colmap feature_extractor --database_path ./colmap_folder/colmap.sqlite3 --image_path compare_set/ --SiftExtraction.max_num_features 2048\"\n",
    "process = subprocess.Popen(cmd.split(), stdout=subprocess.PIPE)\n",
    "output, error = process.communicate()\n",
    "print(output.splitlines()[-1])\n",
    "print(\"Finished extracting features from Comparison set\")"
   ]
  },
  {
   "cell_type": "markdown",
   "metadata": {},
   "source": [
    "## Feature Matching (Comparison set)"
   ]
  },
  {
   "cell_type": "code",
   "execution_count": null,
   "metadata": {
    "tags": []
   },
   "outputs": [],
   "source": [
    "cmd = r\"colmap exhaustive_matcher --database_path ./colmap_folder/colmap.sqlite3\"\n",
    "process = subprocess.Popen(cmd.split(), stdout=subprocess.PIPE)\n",
    "output, error = process.communicate()\n",
    "print(output.splitlines()[-1])\n",
    "print(\"Finished matching features from Comparison set\")"
   ]
  },
  {
   "source": [
    "## Database Functions"
   ],
   "cell_type": "markdown",
   "metadata": {}
  },
  {
   "cell_type": "code",
   "execution_count": null,
   "metadata": {},
   "outputs": [],
   "source": [
    "def create_connection(db_file):\n",
    "    conn = None\n",
    "    try:\n",
    "        conn = sqlite3.connect(db_file, timeout=30000)\n",
    "        dest = sqlite3.connect(':memory:')\n",
    "        conn.backup(dest)\n",
    "    except Error as e:\n",
    "        print(e)\n",
    "\n",
    "    return dest\n",
    "\n",
    "def delete_from(conn, table, column_name, where_value):\n",
    "    sql = r\"DELETE FROM {} WHERE {}='{}'\".format(table, column_name, where_value)\n",
    "    cur = conn.cursor()\n",
    "    cur.execute(sql)\n",
    "    conn.commit()\n",
    "\n",
    "def select_what_from_where(conn, what, table, where_name, where_value):\n",
    "    cur = conn.cursor()\n",
    "    row = cur.execute(r\"SELECT {} FROM {} WHERE {}='{}'\".format(what, table, column_name, where_value)).fetchone()\n",
    "    conn.commit()\n",
    "    return row\n",
    "\n",
    "def select_what_from(conn, what, table):\n",
    "    cur = conn.cursor()\n",
    "    cur.execute(r\"SELECT {} FROM {}\".format(what, table))\n",
    "    conn.commit()\n",
    "    rows = cur.fetchall()\n",
    "    conn.commit()\n",
    "    return rows\n",
    "\n",
    "def decrement_cameras(conn):\n",
    "    sql = r\"UPDATE sqlite_sequence SET seq = seq - 1 WHERE name='cameras'\"\n",
    "    cur = conn.cursor()\n",
    "    cur.execute(sql)\n",
    "    conn.commit()\n",
    "\n",
    "def decrement_images(conn):\n",
    "    sql = r\"UPDATE sqlite_sequence SET seq = seq - 1 WHERE name='images'\"\n",
    "    cur = conn.cursor()\n",
    "    cur.execute(sql)\n",
    "    conn.commit()\n"
   ]
  },
  {
   "cell_type": "code",
   "execution_count": null,
   "metadata": {
    "scrolled": true,
    "tags": []
   },
   "outputs": [],
   "source": [
    "#https://colmap.github.io/database.html\n",
    "def pair_id_to_image_ids(pair_id):\n",
    "    image_id2 = pair_id % 2147483647\n",
    "    image_id1 = (pair_id - image_id2) / 2147483647\n",
    "    return image_id1, image_id2\n",
    "\n",
    "def load_matches(conn):\n",
    "    matches = {}\n",
    "    id_to_img = {}\n",
    "    for row in select_what_from(conn, \"image_id, name\", \"images\"):\n",
    "        img_id = row[0]\n",
    "        name = row[1]\n",
    "        id_to_img[img_id] = name\n",
    "\n",
    "    for img in id_to_img.values():\n",
    "        matches[img] = {}\n",
    "\n",
    "    for row in select_what_from(conn, \"pair_id, rows\", \"matches\"):\n",
    "        pair_id = row[0]\n",
    "        img1id, img2id = pair_id_to_image_ids(pair_id)\n",
    "        num_matches = row[1]\n",
    "        img1name, img2name = id_to_img[img1id], id_to_img[img2id]\n",
    "        matches[img1name][img2name] = num_matches\n",
    "        matches[img2name][img1name] = num_matches\n",
    "    \n",
    "    conn.close()\n",
    "\n",
    "    return matches\n",
    "\n",
    "conn = create_connection(\"./colmap_folder/colmap.sqlite3\")\n",
    "compare_matches = load_matches(conn)\n",
    "conn.close()"
   ]
  },
  {
   "cell_type": "code",
   "execution_count": null,
   "metadata": {
    "scrolled": true,
    "tags": []
   },
   "outputs": [],
   "source": [
    "def total_matches(matches):\n",
    "    totals = {}\n",
    "    for key in matches.keys():\n",
    "        totals[key] = []\n",
    "    for key, value in matches.items():\n",
    "        length = len(value)\n",
    "        for _, num_matches in value.items():\n",
    "            totals[key].append(num_matches)\n",
    "    for key in totals.keys():\n",
    "        totals[key] = sum(totals[key])\n",
    "\n",
    "    return totals\n",
    "\n",
    "compare_total_matches = total_matches(compare_matches)\n",
    "# If one image doesn't match at all, either eliminate it (and rerun) or find more images for the set.\n",
    "pprint(compare_total_matches)"
   ]
  },
  {
   "cell_type": "markdown",
   "metadata": {},
   "source": [
    "## Calculate threshold from comparison set "
   ]
  },
  {
   "cell_type": "code",
   "execution_count": null,
   "metadata": {},
   "outputs": [],
   "source": [
    "def get_thr_from_compare(totals, multipler=1):\n",
    "    thr_per_image = {}\n",
    "    \n",
    "    tq = tqdm(total=len(totals))\n",
    "    for img1, item in totals.items():\n",
    "        for img2, val in item.items():\n",
    "            thr = val * multipler\n",
    "            \n",
    "            # Add thr to dict\n",
    "            if img2 not in thr_per_image.keys():\n",
    "                thr_per_image[img2] = [thr]\n",
    "            else:\n",
    "                thr_per_image[img2].append(thr)\n",
    "        tq.update(1)\n",
    "\n",
    "    # Get the average feature match for a valid image for each image in the reference set to every other image\n",
    "    for key in thr_per_image.keys():\n",
    "        val = thr_per_image[key]\n",
    "        thr_per_image[key] = sum(val)/len(val)\n",
    "        \n",
    "    return thr_per_image"
   ]
  },
  {
   "cell_type": "code",
   "execution_count": null,
   "metadata": {
    "scrolled": true,
    "tags": []
   },
   "outputs": [],
   "source": [
    "thr_per_image = get_thr_from_compare(compare_matches, multipler=0.85)\n",
    "pprint(thr_per_image)"
   ]
  },
  {
   "source": [
    "## Calculating number of matches for each image (Data set) to entire comparison set"
   ],
   "cell_type": "markdown",
   "metadata": {}
  },
  {
   "cell_type": "code",
   "execution_count": null,
   "metadata": {
    "tags": []
   },
   "outputs": [],
   "source": [
    "#https://colmap.github.io/database.html\n",
    "def image_ids_to_pair_id(image_id1, image_id2):\n",
    "    if image_id1 > image_id2:\n",
    "        return 2147483647 * image_id2 + image_id1\n",
    "    else:\n",
    "        return 2147483647 * image_id1 + image_id2\n",
    "\n",
    "def pair_id_to_image_ids(pair_id):\n",
    "    image_id2 = pair_id % 2147483647\n",
    "    image_id1 = (pair_id - image_id2) / 2147483647\n",
    "    return image_id1, image_id2\n",
    "\n",
    "def remove_img_from_db(conn, filename, compare_images, delete=False):\n",
    "    # Retrieve img_id and cam_id for image to delete\n",
    "    images_row = select_from_where(conn, \"images\", \"name\", filename)\n",
    "    img_id = images_row[0]\n",
    "    cam_id = images_row[2]\n",
    "\n",
    "    # Check if that's the only image referencing that camera.\n",
    "    images_rows = select_all(conn, \"images\")\n",
    "    only_cam_ref = True\n",
    "    for row in images_rows:\n",
    "        if row[2] == cam_id and row[0] != img_id:\n",
    "            # Cannot delete that camera\n",
    "            only_cam_ref = False\n",
    "\n",
    "    if only_cam_ref:\n",
    "        delete_from(conn, \"cameras\", \"camera_id\", cam_id)\n",
    "        decrement_cameras(conn)\n",
    "\n",
    "    # Delete any images, descriptors and keypoints for one data image record.\n",
    "    delete_from(conn, \"images\", \"name\", filename)\n",
    "    delete_from(conn, \"descriptors\", \"image_id\", img_id)\n",
    "    delete_from(conn, \"keypoints\", \"image_id\", img_id)\n",
    "\n",
    "\n",
    "    # Delete all matches and two_view_geometries for one data image to all comparison images\n",
    "    for compare_img in compare_images:\n",
    "        compare_filename = compare_img.split(\"/\")[-1]\n",
    "        try:\n",
    "            return_val = select_from_where(conn, \"images\", \"name\", compare_filename)\n",
    "            compare_img_id = return_val[0]\n",
    "        except Exception:\n",
    "            # If the return values is none, assume no matches for this image.\n",
    "            #print(compare_filename, return_val)\n",
    "            pass\n",
    "\n",
    "        pair_id = image_ids_to_pair_id(img_id, compare_img_id)\n",
    "\n",
    "        delete_from(conn, \"matches\", \"pair_id\", pair_id)\n",
    "        delete_from(conn, \"two_view_geometries\", \"pair_id\", pair_id)\n",
    "\n",
    "    decrement_images(conn)\n",
    "\n",
    "data_matches = {}\n",
    "conn = create_connection(\"./colmap_folder/colmap.sqlite3\")\n",
    "data_images = glob.glob(data_dir+\"*.jpg\")\n",
    "data_pair_matching = \"./colmap_folder/pairs_to_match.txt\"\n",
    "\n",
    "# Retrieve all img_ids and filenames for comparison set\n",
    "\n",
    "if os.path.isfile(\"./compare_ids_to_img.p\"):\n",
    "    comparison_only_pair_ids = pickle.load(open(\"./compare_ids_to_img.p\", \"rb\"))\n",
    "    print(\"LOADED compare_ids_to_img FROM PICKLE\")\n",
    "else:\n",
    "    compare_ids_to_img = {}\n",
    "    return_val = select_what_from(conn, \"image_id, name\", \"images\")\n",
    "    for row in return_val:\n",
    "        compare_img_id = row[0]\n",
    "        compare_img_filename = row[1]\n",
    "        compare_ids_to_img[compare_img_id] = compare_img_filename\n",
    "    pickle.dump(compare_ids_to_img, open(\"./compare_ids_to_img.p\", \"wb\"))\n",
    "print(\"Length of \\\"compare_ids_to_img\\\":\", len(compare_ids_to_img.keys()))\n",
    "\n",
    "# Get all comparison only pair_ids\n",
    "if os.path.isfile(\"./comparison_pair_ids.p\"):\n",
    "    comparison_only_pair_ids = pickle.load(open(\"./comparison_pair_ids.p\", \"rb\"))\n",
    "    print(\"LOADED comparison_only_pair_ids FROM PICKLE\")\n",
    "else:    \n",
    "    comparison_only_pair_ids = []\n",
    "    return_val = select_what_from(conn, \"pair_id\", \"matches\")\n",
    "    for row in return_val:\n",
    "        comparison_only_pair_ids.append(str(row[0]))\n",
    "    pickle.dump(comparison_only_pair_ids, open(\"./comparison_pair_ids.p\", \"wb\"))\n",
    "print(\"Length of \\\"comparison_only_pair_ids\\\":\",len(comparison_only_pair_ids))\n",
    "\n",
    "# Write all image pairings for each data image to each comparison image but not to other data images.\n",
    "for data_img in data_images:\n",
    "    data_filename = data_img.split(\"/\")[-1]\n",
    "\n",
    "    for compare_img in compare_ids_to_img.values():\n",
    "        #to_write = data_filename + \" \" + compare_img + \"\\n\"\n",
    "        to_write = data_filename + \" \" + compare_img + \"\\n\"\n",
    "        f = open(data_pair_matching, \"a\").write(to_write)\n",
    "\n",
    "cmd = r\"colmap feature_extractor --database_path ./colmap_folder/colmap.sqlite3 --image_path ./images --SiftExtraction.max_num_features 2048\"\n",
    "process = subprocess.Popen(cmd.split(), stdout=subprocess.PIPE)\n",
    "output, error = process.communicate()\n",
    "p_status = process.wait()\n",
    "\n",
    "# Retrieve all img_ids and filenames for data set\n",
    "data_ids_to_img = {}\n",
    "return_val = select_what_from(conn, \"image_id, name\", \"images\")\n",
    "for row in return_val:\n",
    "    data_img_id = row[0]\n",
    "    data_img_filename = row[1]\n",
    "    # If not a comparison image\n",
    "    if data_img_id not in compare_ids_to_img.keys():\n",
    "        data_ids_to_img[data_img_id] = data_img_filename\n",
    "\n",
    "# Match all image pairs for data set.\n",
    "cmd = r\"colmap matches_importer --database_path ./colmap_folder/colmap.sqlite3 --match_list_path ./colmap_folder/pairs_to_match.txt\"\n",
    "process = subprocess.Popen(cmd.split(), stdout=subprocess.PIPE)\n",
    "output, error = process.communicate()\n",
    "p_status = process.wait()\n",
    "#print(output)\n",
    "\n",
    "# WILL NEED FOR REPEAT\n",
    "os.remove(data_pair_matching)\n",
    "\n",
    "# Get all match numbers\n",
    "matches = {}\n",
    "return_val = select_what_from(conn, \"pair_id, rows\", \"matches\")\n",
    "#print(comparison_only_pair_ids)\n",
    "\n",
    "for row in return_val:\n",
    "    pair_id = str(row[0])\n",
    "    num_matches = row[1]\n",
    "    \n",
    "    if pair_id not in comparison_only_pair_ids:\n",
    "        img1, img2 = pair_id_to_image_ids(int(pair_id))\n",
    "        img1, img2 = int(img1), int(img2)\n",
    "        if img1 in compare_ids_to_img.keys():\n",
    "            img1 = compare_ids_to_img[img1]\n",
    "            img2 = data_ids_to_img[img2]\n",
    "            if img2 not in matches.keys():\n",
    "                matches[img2] = {}\n",
    "            matches[img2][img1] = num_matches\n",
    "        elif img2 in compare_ids_to_img.keys():\n",
    "            img2 = compare_ids_to_img[img2]\n",
    "            img1 = data_ids_to_img[img1]\n",
    "            if img1 not in matches.keys():\n",
    "                matches[img1] = {}\n",
    "            matches[img1][img2] = num_matches\n",
    "\n",
    "\n",
    "#pprint(matches)"
   ]
  },
  {
   "cell_type": "markdown",
   "metadata": {},
   "source": [
    "## Apply threshold to data directory set"
   ]
  },
  {
   "cell_type": "code",
   "execution_count": null,
   "metadata": {
    "tags": []
   },
   "outputs": [],
   "source": [
    "def get_threshold_items(totals, thr_per_image, show=False):\n",
    "    values = {}\n",
    "    #x, y = [], []\n",
    "    tq = tqdm(total=len(totals))\n",
    "    for img1, item in totals.items():\n",
    "        rating = 0\n",
    "        \n",
    "        for img2, val in item.items():\n",
    "            # If the \"Data\" image is under the thr for the comparison image\n",
    "            if val > thr_per_image[img2]:\n",
    "                # Show which images from the comparison set, the data image is under thr for, and how much\n",
    "                rating += 1\n",
    "        \n",
    "        if rating != 0:\n",
    "            rating = rating / len(item) \n",
    "        #rating = sigmoid(rating)\n",
    "\n",
    "        values[img1] = rating\n",
    "        \n",
    "        tq.update(1)\n",
    "    \"\"\"    \n",
    "    if show:\n",
    "        %matplotlib notebook\n",
    "        import matplotlib.pyplot as plt\n",
    "        plt.figure(figsize=(200, 200))\n",
    "        plt.plot(y, x, \"o\", color=\"black\")\n",
    "        plt.plot([x for x in range(len(x))], [confidence for x in range(len(x))], '-ok', color=\"red\")\n",
    "        plt.xlabel(\"Number of features\")\n",
    "        plt.ylabel(\"Confidence\")\n",
    "        plt.show()\n",
    "        print(\"Average is \", confidence)\n",
    "    \"\"\"\n",
    "        \n",
    "    return values"
   ]
  },
  {
   "cell_type": "code",
   "execution_count": null,
   "metadata": {
    "tags": []
   },
   "outputs": [],
   "source": [
    "#print(matches)\n",
    "ratings = get_threshold_items(matches, thr_per_image, show=False)\n",
    "#pprint(ratings)\n",
    "under_confidence = []\n",
    "confidence = sum(ratings.values()) / len(ratings)\n",
    "print(\"CONFIDENCE: {}\".format(confidence))\n",
    "for key, val in ratings.items():\n",
    "    if val < confidence:\n",
    "        print(key, \"@\", val)\n",
    "        under_confidence.append(key)\n",
    "        #show_img_by_path(key, size=(75,75))\n",
    "\n",
    "print(\"{} out of {} images are under confident\".format(len(under_confidence), len(ratings)))"
   ]
  },
  {
   "cell_type": "code",
   "execution_count": null,
   "metadata": {
    "tags": []
   },
   "outputs": [],
   "source": [
    "def move_threshold_items(under, consider_folder, do_print=False):\n",
    "    for val in under:\n",
    "        val = data_dir+val\n",
    "        if os.path.isfile(val):\n",
    "            filename = val.split(\"/\")[-1]\n",
    "            path = os.path.join(consider_folder, filename)\n",
    "            try:\n",
    "                shutil.move(val, consider_folder)\n",
    "            except Exception as e:\n",
    "                print(e)\n",
    "        else:\n",
    "            print(val, \"doesn't exist\")\n",
    "\n",
    "move_threshold_items(under_confidence, consider_dir)"
   ]
  },
  {
   "source": [
    "# An idea; I could possibly smush all the feature data for the comparison images into one object... That would give me a nice percentage as an overall match."
   ],
   "cell_type": "markdown",
   "metadata": {}
  }
 ],
 "metadata": {
  "kernelspec": {
   "display_name": "Python 3",
   "language": "python",
   "name": "python3"
  },
  "language_info": {
   "codemirror_mode": {
    "name": "ipython",
    "version": 3
   },
   "file_extension": ".py",
   "mimetype": "text/x-python",
   "name": "python",
   "nbconvert_exporter": "python",
   "pygments_lexer": "ipython3",
   "version": "3.8.5-final"
  }
 },
 "nbformat": 4,
 "nbformat_minor": 4
}