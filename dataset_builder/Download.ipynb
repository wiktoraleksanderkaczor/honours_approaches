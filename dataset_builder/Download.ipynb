{
 "metadata": {
  "language_info": {
   "codemirror_mode": {
    "name": "ipython",
    "version": 3
   },
   "file_extension": ".py",
   "mimetype": "text/x-python",
   "name": "python",
   "nbconvert_exporter": "python",
   "pygments_lexer": "ipython3",
   "version": "3.8.5-final"
  },
  "orig_nbformat": 2,
  "kernelspec": {
   "name": "python38564bitbasecondad5f027570b844e40ba6c6d5b4044b6f5",
   "display_name": "Python 3.8.5 64-bit ('base': conda)"
  }
 },
 "nbformat": 4,
 "nbformat_minor": 2,
 "cells": [
  {
   "source": [
    "## Import statements"
   ],
   "cell_type": "markdown",
   "metadata": {}
  },
  {
   "cell_type": "code",
   "execution_count": 1,
   "metadata": {
    "tags": []
   },
   "outputs": [],
   "source": [
    "import re\n",
    "import os\n",
    "import cv2\n",
    "import wget\n",
    "import json\n",
    "import glob\n",
    "import urllib\n",
    "import hashlib\n",
    "import requests\n",
    "import flickrapi\n",
    "import posixpath\n",
    "from skimage import io\n",
    "import multiprocessing\n",
    "from pprint import pprint\n",
    "import concurrent.futures\n",
    "from tqdm.notebook import tqdm"
   ]
  },
  {
   "source": [
    "## Helper functions"
   ],
   "cell_type": "markdown",
   "metadata": {}
  },
  {
   "cell_type": "code",
   "execution_count": 2,
   "metadata": {},
   "outputs": [],
   "source": [
    "def chunks(lst, n):\n",
    "    \"\"\"Yield successive n-sized chunks from lst.\"\"\"\n",
    "    for i in range(0, len(lst), n):\n",
    "        yield lst[i:i + n]\n",
    "\n",
    "\n",
    "def thread_it(thread_function, my_list, tq=True, WORKERS=None):\n",
    "    # Set worker number to CPU count\n",
    "    if not WORKERS:\n",
    "        WORKERS = multiprocessing.cpu_count()\n",
    "    \n",
    "    if tq:\n",
    "        tq = tqdm(total=len(my_list))\n",
    "    \n",
    "    # Separate into chunks and execute threaded\n",
    "    thread_list = chunks(my_list, WORKERS)\n",
    "    for chunk in thread_list:\n",
    "        with concurrent.futures.ThreadPoolExecutor(max_workers=WORKERS) as executor:\n",
    "            for item in chunk:\n",
    "                executor.submit(thread_function, item)\n",
    "                if tq:\n",
    "                    tq.update(1)\n",
    "    tq.close()\n",
    "\n",
    "\n",
    "def thread_it_return(thread_function, my_list, tq=True, WORKERS=None):\n",
    "    # Set worker number to CPU count\n",
    "    if not WORKERS:\n",
    "        WORKERS = multiprocessing.cpu_count()\n",
    "    \n",
    "    if tq:\n",
    "        tq = tqdm(total=len(my_list))\n",
    "        \n",
    "    results = []\n",
    "    # Separate into chunks and execute threaded\n",
    "    thread_list = chunks(my_list, WORKERS)\n",
    "    for chunk in thread_list:\n",
    "        with concurrent.futures.ThreadPoolExecutor(max_workers=WORKERS) as executor:\n",
    "            for item in chunk:\n",
    "                future = executor.submit(thread_function, item)\n",
    "                \n",
    "                return_value = future.result()\n",
    "                if return_value != None:\n",
    "                    results.append(return_value)\n",
    "                    \n",
    "                if tq:\n",
    "                    tq.update(1)\n",
    "    \n",
    "    tq.close()\n",
    "    \n",
    "    return results\n",
    "\n",
    "\n",
    "def create_folder(path):\n",
    "    if not os.path.isdir(path):\n",
    "        os.makedirs(path)"
   ]
  },
  {
   "source": [
    "## Link scraping (DuckDuckGo)"
   ],
   "cell_type": "markdown",
   "metadata": {}
  },
  {
   "cell_type": "code",
   "execution_count": 3,
   "metadata": {},
   "outputs": [],
   "source": [
    "def extract_json(objs, exts):\n",
    "    links = []\n",
    "    for obj in objs:\n",
    "        \n",
    "        \"\"\"\n",
    "        print(\"Width {0}, Height {1}\".format(obj[\"width\"], obj[\"height\"]))\n",
    "        print(\"Thumbnail {0}\".format(obj[\"thumbnail\"]))\n",
    "        print(\"Url {0}\".format(obj[\"url\"]))\n",
    "        print(\"Title {0}\".format(obj[\"title\"].encode('utf-8')))\n",
    "        print(\"Image {0}\".format(obj[\"image\"]))\n",
    "        \n",
    "        -- EXAMPLE OUTPUT --\n",
    "        Width 3840, Height 2560\n",
    "        Thumbnail https://tse1.mm.bing.net/th?id=OIF.BrhofaJg5Fx2yl9jrBBQLQ&pid=Api\n",
    "        Url https://www.airantares.ro/cazare/in-Paris/Franta/beaugrenelle-eiffel-tour-3-stars-paris-franta/\n",
    "        Title b'Beaugrenelle Tour Eiffel, Paris, Franta'\n",
    "        Image https://i.travelapi.com/hotels/2000000/1070000/1063000/1062936/c5a49732.jpg\n",
    "        \"\"\"\n",
    "\n",
    "        if (obj[\"width\"] * obj[\"height\"]) > 307200 and obj[\"image\"].split(\".\")[-1].lower() in exts:\n",
    "            links.append(obj[\"image\"])\n",
    "\n",
    "    return links\n",
    "\n",
    "def links_from_ddg(topic, max_images=None, exts=[\"jpg\", \"png\", \"bmp\", \"jpeg\"]):\n",
    "    link_list = []\n",
    "\n",
    "    url = 'https://duckduckgo.com/' \n",
    "    params = {'q': topic} \n",
    "\n",
    "    #   First make a request to above URL, and parse out the 'vqd'\n",
    "    #   This is a special token, which should be used in the subsequent request\n",
    "    res = requests.post(url, data=params)\n",
    "    searchObj = re.search(r'vqd=([\\d-]+)\\&', res.text, re.M|re.I) \n",
    "\n",
    "    if not searchObj:\n",
    "        # Token parsing failed\n",
    "        return -1 \n",
    "\n",
    "    headers = {\n",
    "        'authority': 'duckduckgo.com',\n",
    "        'accept': 'application/json, text/javascript, */*; q=0.01',\n",
    "        'sec-fetch-dest': 'empty',\n",
    "        'x-requested-with': 'XMLHttpRequest',\n",
    "        'user-agent': 'Mozilla/5.0 (Macintosh; Intel Mac OS X 10_15_4) AppleWebKit/537.36 (KHTML, like Gecko) Chrome/80.0.3987.163 Safari/537.36',\n",
    "        'sec-fetch-site': 'same-origin',\n",
    "        'sec-fetch-mode': 'cors',\n",
    "        'referer': 'https://duckduckgo.com/',\n",
    "        'accept-language': 'en-US,en;q=0.9',\n",
    "    }\n",
    "\n",
    "    params = (\n",
    "        ('l', 'us-en'),\n",
    "        ('o', 'json'),\n",
    "        ('q', topic),\n",
    "        ('vqd', searchObj.group(1)),\n",
    "        ('f', ',,,'),\n",
    "        ('p', '1'),\n",
    "        ('v7exp', 'a'),\n",
    "    )\n",
    "\n",
    "    requestUrl = url + \"i.js\"\n",
    "\n",
    "    print(\"Scraping links from DuckDuckGo\")\n",
    "    tq = tqdm(total=max_images)\n",
    "    link_count = 0\n",
    "    while True:\n",
    "        while True:\n",
    "            try:\n",
    "                res = requests.get(requestUrl, headers=headers, params=params)\n",
    "                data = json.loads(res.text)\n",
    "                break\n",
    "            except ValueError:\n",
    "                # Hitting Url Failure - Sleep and Retry\n",
    "                time.sleep(5)\n",
    "                continue\n",
    "\n",
    "        links = extract_json(data[\"results\"], exts)\n",
    "        for link in links:\n",
    "            if max_images and link_count != max_images:\n",
    "                link_list += [link]\n",
    "                link_count += 1\n",
    "                tq.update(1)\n",
    "            else:\n",
    "                return link_list\n",
    "            \n",
    "\n",
    "        if \"next\" not in data:\n",
    "            # No next page\n",
    "            return link_list\n",
    "\n",
    "        requestUrl = url + data[\"next\"]"
   ]
  },
  {
   "source": [
    "## Link scraping (Flickr)"
   ],
   "cell_type": "markdown",
   "metadata": {}
  },
  {
   "cell_type": "code",
   "execution_count": 4,
   "metadata": {},
   "outputs": [],
   "source": [
    "def links_from_flickr(topic, max_images):\n",
    "    KEY = '88a8660edd2e770b1b00e878af174879'\n",
    "    SECRET = 'f3063c276e3ad859'\n",
    "\n",
    "    SIZES = [\"url_o\", \"url_k\", \"url_h\", \"url_l\", \"url_c\"]  # in order of preference\n",
    "\n",
    "    \"\"\"\n",
    "    - url_o: Original (4520 × 3229)\n",
    "    - url_k: Large 2048 (2048 × 1463)\n",
    "    - url_h: Large 1600 (1600 × 1143)\n",
    "    - url_l=: Large 1024 (1024 × 732)\n",
    "    - url_c: Medium 800 (800 × 572)\n",
    "    - url_z: Medium 640 (640 × 457)\n",
    "    - url_m: Medium 500 (500 × 357)\n",
    "    - url_n: Small 320 (320 × 229)\n",
    "    - url_s: Small 240 (240 × 171)\n",
    "    - url_t: Thumbnail (100 × 71)\n",
    "    - url_q: Square 150 (150 × 150)\n",
    "    - url_sq: Square 75 (75 × 75)\n",
    "    \"\"\"\n",
    "    \n",
    "    extras = ','.join(SIZES)\n",
    "    flickr = flickrapi.FlickrAPI(KEY, SECRET)\n",
    "    photos = flickr.walk(text=topic,  # it will search by image title and image tags\n",
    "                            extras=extras,  # get the urls for each size we want\n",
    "                            privacy_filter=1,  # search only for public photos\n",
    "                            per_page=50,\n",
    "                            sort='relevance')  # we want what we are looking for to appear first\n",
    "    counter, urls = 0, []\n",
    "\n",
    "    print(\"Scraping links from Flickr\")\n",
    "    tq = tqdm(total = max_images)\n",
    "    for photo in photos:\n",
    "        if counter < max_images:\n",
    "            for i in range(len(SIZES)):  # makes sure the loop is done in the order we want\n",
    "                url = photo.get(SIZES[i])\n",
    "                if url:  # if url is None try with the next size\n",
    "                    urls.append(url)\n",
    "                    counter += 1\n",
    "                    tq.update(1)\n",
    "                    break\n",
    "        else:\n",
    "            break\n",
    "\n",
    "    return urls"
   ]
  },
  {
   "source": [
    "## Link scraping (Bing)"
   ],
   "cell_type": "markdown",
   "metadata": {}
  },
  {
   "cell_type": "code",
   "execution_count": 5,
   "metadata": {},
   "outputs": [],
   "source": [
    "def links_from_bing(topic, max_images, exts=[\"jpg\", \"png\", \"bmp\", \"jpeg\"], adult=\"off\", bing_filter=\"filterui:imagesize-custom_640_480\"):\n",
    "    links = []\n",
    "    headers = {'User-Agent': 'Mozilla/5.0 (X11; Fedora; Linux x86_64; rv:60.0) Gecko/20100101 Firefox/60.0'}\n",
    "    image_counter = 0\n",
    "    page_counter = 0\n",
    "\n",
    "    print(\"Scraping links from Flickr\")\n",
    "    tq = tqdm(total = max_images)\n",
    "    while image_counter < max_images:\n",
    "        # Parse the page source and download pics\n",
    "        request_url = 'https://www.bing.com/images/async?q=' + urllib.parse.quote_plus(topic) \\\n",
    "                        + '&first=' + str(page_counter) + '&count=' + str(max_images) \\\n",
    "                        + '&adlt=' + adult + '&qft=' + bing_filter\n",
    "        request = urllib.request.Request(request_url, None, headers=headers)\n",
    "        response = urllib.request.urlopen(request)\n",
    "        html = response.read().decode('utf8')\n",
    "        found_links = re.findall('murl&quot;:&quot;(.*?)&quot;', html)\n",
    "\n",
    "        for link in found_links:\n",
    "            if image_counter < max_images:\n",
    "                try:\n",
    "                    path = urllib.parse.urlsplit(link).path\n",
    "                    filename = posixpath.basename(path).split('?')[0]\n",
    "                    file_type = filename.split(\".\")[-1]\n",
    "                    link = link[:link.index(\".\"+file_type)]+\".\"+file_type\n",
    "                    if file_type.lower() in exts:\n",
    "                        links.append(link)\n",
    "                        image_counter += 1\n",
    "                        tq.update(1)\n",
    "                except:\n",
    "                    pass\n",
    "            else:\n",
    "                break\n",
    "\n",
    "        page_counter += 1\n",
    "    tq.close()\n",
    "    return links\n"
   ]
  },
  {
   "source": [
    "## Download Function"
   ],
   "cell_type": "markdown",
   "metadata": {}
  },
  {
   "cell_type": "code",
   "execution_count": 6,
   "metadata": {},
   "outputs": [],
   "source": [
    "def thread_download(item):\n",
    "    link = item[\"link\"]\n",
    "    folder = item[\"folder\"]\n",
    "    service = item[\"service\"]\n",
    "    link_hash = str(hashlib.md5(link.encode(\"utf-8\")).hexdigest())\n",
    "    ext = link.split(\".\")[-1].lower()\n",
    "    fname = \"image_{}.{}\".format(link_hash, ext)\n",
    "    \n",
    "    path = os.path.join(folder, fname)\n",
    "\n",
    "    if not os.path.isfile(path):\n",
    "        myfile = None\n",
    "        if service == \"ddg\":\n",
    "            myfile = requests.get(link, allow_redirects=True)\n",
    "            open(path, 'wb').write(myfile.content)\n",
    "        elif service == \"flickr\":\n",
    "            myfile = requests.get(link, stream=True)\n",
    "            open(path, 'wb').write(myfile.content)\n",
    "        elif service == \"bing\":\n",
    "            wget.download(link, path)\n",
    "\n",
    "def download(links, folder, service=\"flickr\"):\n",
    "    items = []\n",
    "    for link in links:\n",
    "        items.append({\"link\": link, \"folder\": folder, \"service\": service})\n",
    "    thread_it(thread_download, items, WORKERS=None)"
   ]
  },
  {
   "source": [
    "## Download definition"
   ],
   "cell_type": "markdown",
   "metadata": {}
  },
  {
   "cell_type": "code",
   "execution_count": 7,
   "metadata": {},
   "outputs": [],
   "source": [
    "# Define task\n",
    "compare_dir = \"compare_set/\"\n",
    "data_dir = \"images/\"\n",
    "\n",
    "dirs = [compare_dir, data_dir]\n",
    "for path in dirs:\n",
    "    create_folder(path)\n",
    "\n",
    "CPUs = multiprocessing.cpu_count()\n",
    "# It will be double, since downloading from both Bing and Flickr.\n",
    "bing_data_num = 3000\n",
    "flickr_data_num = 3000\n",
    "compare_num = 100\n",
    "topic = \"eiffel tower\""
   ]
  },
  {
   "source": [
    "## Download the sets\n",
    "#### Download the comparison set and count number of downloaded files "
   ],
   "cell_type": "markdown",
   "metadata": {}
  },
  {
   "cell_type": "code",
   "execution_count": null,
   "metadata": {
    "tags": []
   },
   "outputs": [],
   "source": [
    "# Download comparison set\n",
    "exts = [\"jpg\", \"jpeg\"]\n",
    "links = links_from_ddg(topic, max_images = compare_num, exts = exts)\n",
    "download(links, compare_dir, service=\"ddg\")\n",
    "file_num = len(glob.glob(compare_dir+\"*\", recursive=True))\n",
    "print(\"Downloaded {} images for the comparison set\".format(file_num))"
   ]
  },
  {
   "source": [
    "#### Download the data set and count number of downloaded files "
   ],
   "cell_type": "markdown",
   "metadata": {}
  },
  {
   "cell_type": "code",
   "execution_count": 8,
   "metadata": {
    "tags": []
   },
   "outputs": [
    {
     "output_type": "stream",
     "name": "stdout",
     "text": "Scraping links from Flickr\n"
    },
    {
     "output_type": "display_data",
     "data": {
      "text/plain": "HBox(children=(FloatProgress(value=0.0, max=3000.0), HTML(value=&#39;&#39;)))",
      "application/vnd.jupyter.widget-view+json": {
       "version_major": 2,
       "version_minor": 0,
       "model_id": "6c46ce5e7be14dfaa9e098cb07836ee0"
      }
     },
     "metadata": {}
    },
    {
     "output_type": "display_data",
     "data": {
      "text/plain": "HBox(children=(FloatProgress(value=0.0, max=3000.0), HTML(value=&#39;&#39;)))",
      "application/vnd.jupyter.widget-view+json": {
       "version_major": 2,
       "version_minor": 0,
       "model_id": "c694bac9ee3247e093f67bb2ab4f3e66"
      }
     },
     "metadata": {}
    },
    {
     "output_type": "stream",
     "name": "stdout",
     "text": "\nDownloaded 2980 images for the data set\n"
    }
   ],
   "source": [
    "# Download data set from Flickr\n",
    "links = links_from_flickr(topic, max_images=flickr_data_num)\n",
    "download(links, data_dir, service=\"flickr\")\n",
    "file_num = len(glob.glob(data_dir+\"*\", recursive=True))\n",
    "print(\"Downloaded {} images for the data set\".format(file_num))"
   ]
  },
  {
   "cell_type": "code",
   "execution_count": 9,
   "metadata": {
    "tags": []
   },
   "outputs": [
    {
     "output_type": "stream",
     "name": "stdout",
     "text": "Scraping links from Flickr\n"
    },
    {
     "output_type": "display_data",
     "data": {
      "text/plain": "HBox(children=(FloatProgress(value=0.0, max=3000.0), HTML(value=&#39;&#39;)))",
      "application/vnd.jupyter.widget-view+json": {
       "version_major": 2,
       "version_minor": 0,
       "model_id": "583abc80e6f6402db647cd63350dc1d3"
      }
     },
     "metadata": {}
    },
    {
     "output_type": "stream",
     "name": "stdout",
     "text": "\n\n"
    },
    {
     "output_type": "display_data",
     "data": {
      "text/plain": "HBox(children=(FloatProgress(value=0.0, max=3000.0), HTML(value=&#39;&#39;)))",
      "application/vnd.jupyter.widget-view+json": {
       "version_major": 2,
       "version_minor": 0,
       "model_id": "628031c033014a4e99a5fdad023d2555"
      }
     },
     "metadata": {}
    },
    {
     "output_type": "stream",
     "name": "stdout",
     "text": "\nDownloaded 123 images for the data set\n"
    }
   ],
   "source": [
    "# Download data set from Bing\n",
    "links = links_from_bing(topic, max_images=bing_data_num)\n",
    "download(links, data_dir, service=\"bing\")\n",
    "file_num_new = len(glob.glob(data_dir+\"*\", recursive=True))\n",
    "print(\"Downloaded {} images for the data set\".format(file_num_new-file_num))"
   ]
  },
  {
   "source": [
    "## Post-Download Cleaning\n",
    "#### Rename all files to \".jpg\" file format, remove anything not \".jpg\"."
   ],
   "cell_type": "markdown",
   "metadata": {}
  },
  {
   "cell_type": "code",
   "execution_count": 10,
   "metadata": {
    "tags": []
   },
   "outputs": [
    {
     "output_type": "display_data",
     "data": {
      "text/plain": "HBox(children=(FloatProgress(value=0.0, max=143.0), HTML(value=&#39;&#39;)))",
      "application/vnd.jupyter.widget-view+json": {
       "version_major": 2,
       "version_minor": 0,
       "model_id": "a1fcd3172b354a738271aa6851721451"
      }
     },
     "metadata": {}
    },
    {
     "output_type": "stream",
     "name": "stdout",
     "text": "\n"
    },
    {
     "output_type": "display_data",
     "data": {
      "text/plain": "HBox(children=(FloatProgress(value=0.0, max=3103.0), HTML(value=&#39;&#39;)))",
      "application/vnd.jupyter.widget-view+json": {
       "version_major": 2,
       "version_minor": 0,
       "model_id": "4dad70d8042d4454890e0622dc02cc46"
      }
     },
     "metadata": {}
    },
    {
     "output_type": "stream",
     "name": "stdout",
     "text": "\n"
    }
   ],
   "source": [
    "def img_rename(image):\n",
    "    fname = image.split(\".\")[-2]\n",
    "    ext = image.split(\".\")[-1]\n",
    "    if ext == \"jpeg\":\n",
    "        shutil.move(image, fname+\".jpg\")\n",
    "    elif ext == \"jpg\":\n",
    "        return\n",
    "    else:\n",
    "        os.remove(image)\n",
    "        \n",
    "def images_rename(path):\n",
    "    files = glob.glob(path+\"*.*\", recursive=True)\n",
    "    thread_it(img_rename, files)\n",
    "\n",
    "images_rename(compare_dir)\n",
    "images_rename(data_dir)"
   ]
  },
  {
   "source": [
    "#### Detect file corruption"
   ],
   "cell_type": "markdown",
   "metadata": {}
  },
  {
   "cell_type": "code",
   "execution_count": 11,
   "metadata": {
    "tags": []
   },
   "outputs": [
    {
     "output_type": "display_data",
     "data": {
      "text/plain": "HBox(children=(FloatProgress(value=0.0, max=143.0), HTML(value=&#39;&#39;)))",
      "application/vnd.jupyter.widget-view+json": {
       "version_major": 2,
       "version_minor": 0,
       "model_id": "8ee9d13ed8b643648bf6552d08fd50b4"
      }
     },
     "metadata": {}
    },
    {
     "output_type": "stream",
     "name": "stdout",
     "text": "\nCompare directory:\n[]\n"
    },
    {
     "output_type": "display_data",
     "data": {
      "text/plain": "HBox(children=(FloatProgress(value=0.0, max=3090.0), HTML(value=&#39;&#39;)))",
      "application/vnd.jupyter.widget-view+json": {
       "version_major": 2,
       "version_minor": 0,
       "model_id": "a7686897340b4b9d8b30e6c35ac3022b"
      }
     },
     "metadata": {}
    },
    {
     "output_type": "stream",
     "name": "stdout",
     "text": "\nData directory:\n[]\n"
    }
   ],
   "source": [
    "def verify_thread(image):\n",
    "    try:\n",
    "        img = io.imread(image)\n",
    "    except Exception as e:\n",
    "        return (image, e)\n",
    "\n",
    "def verify_images(path):\n",
    "    files = glob.glob(path+\"*.jpg\", recursive=True)\n",
    "    corrupt = thread_it_return(verify_thread, files)\n",
    "    return corrupt\n",
    "\n",
    "corrupt_compare = verify_images(compare_dir)\n",
    "print(\"Compare directory:\")\n",
    "pprint(corrupt_compare)\n",
    "\n",
    "corrupt_data = verify_images(data_dir)\n",
    "print(\"Data directory:\")\n",
    "pprint(corrupt_data)"
   ]
  },
  {
   "source": [
    "#### Remove corrupt"
   ],
   "cell_type": "markdown",
   "metadata": {}
  },
  {
   "cell_type": "code",
   "execution_count": 12,
   "metadata": {
    "tags": []
   },
   "outputs": [
    {
     "output_type": "display_data",
     "data": {
      "text/plain": "HBox(children=(FloatProgress(value=1.0, bar_style=&#39;info&#39;, layout=Layout(width=&#39;20px&#39;), max=1.0), HTML(value=&#39;&#39;…",
      "application/vnd.jupyter.widget-view+json": {
       "version_major": 2,
       "version_minor": 0,
       "model_id": "a32e53da6bf14fc2b81e1315164d9b01"
      }
     },
     "metadata": {}
    },
    {
     "output_type": "stream",
     "name": "stdout",
     "text": "\n"
    },
    {
     "output_type": "display_data",
     "data": {
      "text/plain": "HBox(children=(FloatProgress(value=1.0, bar_style=&#39;info&#39;, layout=Layout(width=&#39;20px&#39;), max=1.0), HTML(value=&#39;&#39;…",
      "application/vnd.jupyter.widget-view+json": {
       "version_major": 2,
       "version_minor": 0,
       "model_id": "8443621bc97641adab65229d21a1e7e2"
      }
     },
     "metadata": {}
    },
    {
     "output_type": "stream",
     "name": "stdout",
     "text": "\n"
    }
   ],
   "source": [
    "def img_remove_thread(item):\n",
    "    os.remove(item[0])\n",
    "\n",
    "def remove_items(items):\n",
    "    thread_it(img_remove_thread, items)\n",
    "    \n",
    "remove_items(corrupt_compare)\n",
    "remove_items(corrupt_data)"
   ]
  },
  {
   "source": [
    "#### Checking minimum image size"
   ],
   "cell_type": "markdown",
   "metadata": {}
  },
  {
   "cell_type": "code",
   "execution_count": 13,
   "metadata": {
    "tags": []
   },
   "outputs": [
    {
     "output_type": "stream",
     "name": "stdout",
     "text": "Checking resolution for images (Compare):\n"
    },
    {
     "output_type": "display_data",
     "data": {
      "text/plain": "HBox(children=(FloatProgress(value=0.0, max=143.0), HTML(value=&#39;&#39;)))",
      "application/vnd.jupyter.widget-view+json": {
       "version_major": 2,
       "version_minor": 0,
       "model_id": "8719003363af412fb921ef4957fb1776"
      }
     },
     "metadata": {}
    },
    {
     "output_type": "stream",
     "name": "stdout",
     "text": "\n[]\nChecking resolution for images (Data):\n"
    },
    {
     "output_type": "display_data",
     "data": {
      "text/plain": "HBox(children=(FloatProgress(value=0.0, max=3090.0), HTML(value=&#39;&#39;)))",
      "application/vnd.jupyter.widget-view+json": {
       "version_major": 2,
       "version_minor": 0,
       "model_id": "a365bd34a85b46fb8c024372f785b62a"
      }
     },
     "metadata": {}
    },
    {
     "output_type": "stream",
     "name": "stdout",
     "text": "\n[&#39;images/image_1982e2383c568ca20db792ef3d7aed32.jpg&#39;,\n &#39;images/image_ffdf842de93ee05da3293bc95a9e24ce.jpg&#39;,\n &#39;images/image_f2b7c03d4403c3fb00285425ba59ef1f.jpg&#39;,\n &#39;images/image_5bd69dff21e781ce930dda5b54c776dd.jpg&#39;,\n &#39;images/image_0e6524a0b6fb1e7941096e6831a0a9ca.jpg&#39;,\n &#39;images/image_6a61075dff42176473350d1b3ba03263.jpg&#39;,\n &#39;images/image_d09c10a9bc8230eec77dead50c6862a6.jpg&#39;,\n &#39;images/image_5a9f92f1f113d312615a21858b5c44b0.jpg&#39;,\n &#39;images/image_e8b631bdb0af2f500dab61b7b9882fb5.jpg&#39;,\n &#39;images/image_80159d3ada101741b248f54f3aaf9187.jpg&#39;,\n &#39;images/image_0327ce78e1804efe44e87098681640eb.jpg&#39;,\n &#39;images/image_d7b6e4c06f9b13921e47dbf0bedd741a.jpg&#39;,\n &#39;images/image_16d2c689bdb32f42ea129e854d5f21be.jpg&#39;,\n &#39;images/image_ebe45bb9e0fd8a6f4b471f32aa1efd34.jpg&#39;,\n &#39;images/image_5e92bf7d2c6c56a4d0f9a69f84ff318e.jpg&#39;,\n &#39;images/image_8c8858e1701405b1eadd87186fab7fd6.jpg&#39;,\n &#39;images/image_546b4bc1b63d7a447a14a9cfa3214770.jpg&#39;,\n &#39;images/image_7d6553917ec5a817c847d6085b5e36f8.jpg&#39;,\n &#39;images/image_a31863f0aadf89f46a7ba3b62fbc39f5.jpg&#39;,\n &#39;images/image_5a150d13cbb38dc37148c2467f29c073.jpg&#39;,\n &#39;images/image_a9dd6086e1d86f9907aa0f3c640d6e75.jpg&#39;,\n &#39;images/image_6130000bb4290799172fee3f876e9d45.jpg&#39;,\n &#39;images/image_550512eff1b324aa0eecbec7766ed147.jpg&#39;,\n &#39;images/image_79f218d62c4e1f1cd6682edcb98ea60e.jpg&#39;,\n &#39;images/image_6c21085dcff37b9fd7887dae650ee1f5.jpg&#39;,\n &#39;images/image_1a0bc63ea0f7f6b36d0a9a707f018fc3.jpg&#39;,\n &#39;images/image_d77fdcd203199993c67c62f61fb2c25d.jpg&#39;,\n &#39;images/image_df55d1947e956fc12656a35a077d2aad.jpg&#39;,\n &#39;images/image_595db543b780f3266f3488fd3229dcf6.jpg&#39;,\n &#39;images/image_e70edd1f4bf6ed32125e98fa7c09075c.jpg&#39;,\n &#39;images/image_0412f5dabf2de8dd69643366b0aa7a78.jpg&#39;,\n &#39;images/image_63f544cfa6d39fe5fb1c17a501db9691.jpg&#39;,\n &#39;images/image_d62fdc951ddafcc7964d9138e9b7442e.jpg&#39;,\n &#39;images/image_27edbbf65b59c1dd7006080f2bb1ae63.jpg&#39;,\n &#39;images/image_6f0aedfc53b80455c92d381738e2db6c.jpg&#39;,\n &#39;images/image_777a65702531af2d7404bd12c7de08c5.jpg&#39;,\n &#39;images/image_309f8d55bae67dfd284f9d72ffc4ce48.jpg&#39;,\n &#39;images/image_07d4e2e3a4416d24b58f7f8b897c05aa.jpg&#39;,\n &#39;images/image_f794bb44029546c88258a8063ca81280.jpg&#39;,\n &#39;images/image_918de137c3458d38cd6d5a268825404e.jpg&#39;,\n &#39;images/image_214dce86ab68c7b2ce295ceb39a4a4f9.jpg&#39;,\n &#39;images/image_c6cdb411d00f87633ff1c4fd5732c237.jpg&#39;,\n &#39;images/image_acbc3e96f08bf705ad41af9aa49939e2.jpg&#39;,\n &#39;images/image_e7474af8ccba4a3122e45069a2318320.jpg&#39;,\n &#39;images/image_8c508e787495d597737e9187774c5885.jpg&#39;,\n &#39;images/image_19dcc612dd522131c774538057925129.jpg&#39;,\n &#39;images/image_f74050ee1ca065a13fdf4a156b6415c2.jpg&#39;,\n &#39;images/image_ed3df06d16778e7c8ccd1c9f7be69d38.jpg&#39;,\n &#39;images/image_c54949542b6603d2861f3dcc5185441e.jpg&#39;,\n &#39;images/image_8494f7ab655f4b6a0a8300f58cdfb393.jpg&#39;,\n &#39;images/image_522a26c4f51f09bbeec84e2877e1c428.jpg&#39;,\n &#39;images/image_d7fb0140e33c59279564be21fcaf9cc4.jpg&#39;,\n &#39;images/image_dbd5040dc35fc74ea1d0aeed040dddae.jpg&#39;,\n &#39;images/image_cb2d109f7b59da4909debad8120e4c0c.jpg&#39;,\n &#39;images/image_e5e4c9b65ef49611bf92fa3997f8234b.jpg&#39;,\n &#39;images/image_f240f83697091856c51f0bec2a05a79a.jpg&#39;,\n &#39;images/image_61bc72da07dd8ff000c95cdd7dcaa214.jpg&#39;]\nDeleting found items:\n"
    },
    {
     "output_type": "display_data",
     "data": {
      "text/plain": "HBox(children=(FloatProgress(value=1.0, bar_style=&#39;info&#39;, layout=Layout(width=&#39;20px&#39;), max=1.0), HTML(value=&#39;&#39;…",
      "application/vnd.jupyter.widget-view+json": {
       "version_major": 2,
       "version_minor": 0,
       "model_id": "86e271400cd445c39b117779ed38592c"
      }
     },
     "metadata": {}
    },
    {
     "output_type": "stream",
     "name": "stdout",
     "text": "\n"
    },
    {
     "output_type": "display_data",
     "data": {
      "text/plain": "HBox(children=(FloatProgress(value=0.0, max=57.0), HTML(value=&#39;&#39;)))",
      "application/vnd.jupyter.widget-view+json": {
       "version_major": 2,
       "version_minor": 0,
       "model_id": "bfaa8c5585054e6f84a2a593b4af6960"
      }
     },
     "metadata": {}
    },
    {
     "output_type": "stream",
     "name": "stdout",
     "text": "\n"
    }
   ],
   "source": [
    "def res_check_thread(image):\n",
    "    img = cv2.imread(image, cv2.IMREAD_GRAYSCALE)\n",
    "\n",
    "    # Get image height and width\n",
    "    #height, width, channels = img.shape\n",
    "    height, width = img.shape\n",
    "\n",
    "    # Count maximum resolution\n",
    "    val = width * height\n",
    "    \n",
    "    # Show warning if problem\n",
    "    # 640*480\n",
    "    if val < 307200:\n",
    "        return image\n",
    "\n",
    "\n",
    "def get_under_res(path):\n",
    "    files = glob.glob(path+\"*.jpg\")\n",
    "    under_res = thread_it_return(res_check_thread, files)\n",
    "    \n",
    "    return under_res\n",
    "\n",
    "print(\"Checking resolution for images (Compare):\")\n",
    "compare_under_res = get_under_res(compare_dir)\n",
    "pprint(compare_under_res)\n",
    "print(\"Checking resolution for images (Data):\")\n",
    "data_under_res = get_under_res(data_dir)\n",
    "pprint(data_under_res)\n",
    "\n",
    "print(\"Deleting found items:\")\n",
    "remove_items(compare_under_res)\n",
    "remove_items(data_under_res)\n"
   ]
  },
  {
   "source": [
    "# Ensure the images in the \"compare\" directory contain the subject and aren't blurred."
   ],
   "cell_type": "markdown",
   "metadata": {}
  },
  {
   "source": [
    "## Then proceed, to \"Honours\" notebook."
   ],
   "cell_type": "markdown",
   "metadata": {}
  }
 ]
}